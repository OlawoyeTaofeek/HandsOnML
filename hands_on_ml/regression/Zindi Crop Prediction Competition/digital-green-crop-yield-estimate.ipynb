{
 "cells": [
  {
   "cell_type": "markdown",
   "metadata": {},
   "source": []
  },
  {
   "cell_type": "markdown",
   "metadata": {},
   "source": []
  },
  {
   "cell_type": "code",
   "execution_count": 1,
   "metadata": {},
   "outputs": [],
   "source": [
    "import os\n",
    "from zipfile import ZipFile\n",
    "import pandas as pd\n",
    "import numpy as np \n",
    "import matplotlib.pyplot as plt    \n",
    "import zipfile \n",
    "import seaborn as sns  \n",
    "import warnings\n",
    "warnings.filterwarnings(\"ignore\") \n",
    "sns.set_style(\"darkgrid\")"
   ]
  },
  {
   "cell_type": "code",
   "execution_count": 2,
   "metadata": {},
   "outputs": [
    {
     "data": {
      "text/plain": [
       "'c:\\\\Users\\\\Omotayo\\\\OneDrive\\\\Desktop\\\\HandsOnML\\\\hands_on_ml\\\\regression\\\\Zindi Crop Prediction Competition'"
      ]
     },
     "execution_count": 2,
     "metadata": {},
     "output_type": "execute_result"
    }
   ],
   "source": [
    "os.getcwd()"
   ]
  },
  {
   "cell_type": "code",
   "execution_count": 3,
   "metadata": {},
   "outputs": [
    {
     "data": {
      "text/plain": [
       "['digital-green-crop-yield-estimate-challenge20230912-4562-1bbmstk(1).zip',\n",
       " 'digital-green-crop-yield-estimate.ipynb']"
      ]
     },
     "execution_count": 3,
     "metadata": {},
     "output_type": "execute_result"
    }
   ],
   "source": [
    "os.listdir()"
   ]
  },
  {
   "cell_type": "markdown",
   "metadata": {},
   "source": [
    "Extracting all the files from the zipfolders and load them into Dataframe"
   ]
  },
  {
   "cell_type": "code",
   "execution_count": 4,
   "metadata": {},
   "outputs": [
    {
     "data": {
      "text/plain": [
       "'c:\\\\Users\\\\Omotayo\\\\OneDrive\\\\Desktop\\\\HandsOnML\\\\hands_on_ml\\\\regression\\\\Zindi Crop Prediction Competition\\\\digital-green-crop-yield-estimate-challenge20230912-4562-1bbmstk(1).zip'"
      ]
     },
     "execution_count": 4,
     "metadata": {},
     "output_type": "execute_result"
    }
   ],
   "source": [
    "zip_file_path = os.path.join(os.getcwd(), os.listdir()[0])\n",
    "zip_file_path"
   ]
  },
  {
   "cell_type": "code",
   "execution_count": 5,
   "metadata": {},
   "outputs": [
    {
     "name": "stdout",
     "output_type": "stream",
     "text": [
      "Files extracted to: c:\\Users\\Omotayo\\OneDrive\\Desktop\\HandsOnML\\hands_on_ml\\regression\\Zindi Crop Prediction Competition\n"
     ]
    }
   ],
   "source": [
    "# Specify the path to the zip file\n",
    "zip_file_path = os.path.join(os.getcwd(), os.listdir()[0])\n",
    "\n",
    "# Open the zip file\n",
    "with zipfile.ZipFile(zip_file_path, 'r') as zip_ref:\n",
    "    # Extract the specified file to the specified directory\n",
    "    zip_ref.extractall(\".\")\n",
    "\n",
    "\n",
    "print(f'Files extracted to: {os.getcwd()}')"
   ]
  },
  {
   "cell_type": "code",
   "execution_count": 6,
   "metadata": {},
   "outputs": [
    {
     "data": {
      "text/plain": [
       "['digital-green-crop-yield-estimate-challenge20230912-4562-1bbmstk(1).zip',\n",
       " 'digital-green-crop-yield-estimate.ipynb',\n",
       " 'DigitalGreen_Starter_Notebook.ipynb',\n",
       " 'manifest-791977bdaaa868446d787f0618161fe720230912-4562-s64syz.json',\n",
       " 'SampleSubmission.csv',\n",
       " 'Test.csv',\n",
       " 'Train.csv',\n",
       " 'VariableDescription.csv']"
      ]
     },
     "execution_count": 6,
     "metadata": {},
     "output_type": "execute_result"
    }
   ],
   "source": [
    "os.listdir()"
   ]
  },
  {
   "cell_type": "markdown",
   "metadata": {},
   "source": [
    "#### Content\n",
    "\n",
    "<ul>\n",
    "    <li><a href=\"#inspection\">Data Inspection</a></li>\n",
    "    <li><a href=\"#cleaning\">Data Cleaning</a></li>\n",
    "    <li><a href=\"#engineering\">Feature Engineering</a></li>\n",
    "    <li><a href=\"#transformation\">Feature Transformation</a></li>\n",
    "    <li><a href=\"#target-transformation\">Target Transformation</a></li>\n",
    "    <li><a href=\"#model-selection\">Model Selection</a></li>\n",
    "    <li><a href=\"#optimization\">Hyperparameter Optimization</a></li>\n",
    "    <li><a href=\"#ensemble\">Ensemble Learning</a></li>\n",
    "    <li><a href=\"#selection\">Feature Selection</a></li>\n",
    "</ul>"
   ]
  },
  {
   "cell_type": "code",
   "execution_count": null,
   "metadata": {},
   "outputs": [],
   "source": [
    "pd.set_option(\"display.max_columns\", None)\n",
    "# pd.set_option(\"display.max_rows\", 81)"
   ]
  },
  {
   "cell_type": "markdown",
   "metadata": {},
   "source": [
    "<!-- Section 1: Data Inspection -->\n",
    "<a id=\"inspection\"></a>\n",
    "### Data Inspection"
   ]
  },
  {
   "cell_type": "code",
   "execution_count": 7,
   "metadata": {},
   "outputs": [],
   "source": [
    "# Let Load in the Train and Test set into our Dataframe \n",
    "\n",
    "train = pd.read_csv(\"Train.csv\")\n",
    "test = pd.read_csv(\"Test.csv\")\n",
    "submission = pd.read_csv(\"SampleSubmission.csv\")\n",
    "VariableDescription = pd.read_csv(\"VariableDescription.csv\")"
   ]
  },
  {
   "cell_type": "code",
   "execution_count": null,
   "metadata": {},
   "outputs": [],
   "source": []
  }
 ],
 "metadata": {
  "kernelspec": {
   "display_name": "env",
   "language": "python",
   "name": "python3"
  },
  "language_info": {
   "codemirror_mode": {
    "name": "ipython",
    "version": 3
   },
   "file_extension": ".py",
   "mimetype": "text/x-python",
   "name": "python",
   "nbconvert_exporter": "python",
   "pygments_lexer": "ipython3",
   "version": "3.11.5"
  }
 },
 "nbformat": 4,
 "nbformat_minor": 2
}
